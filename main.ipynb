{
 "cells": [
  {
   "cell_type": "code",
   "execution_count": 1,
   "metadata": {},
   "outputs": [
    {
     "data": {
      "text/plain": [
       "polars.config.Config"
      ]
     },
     "execution_count": 1,
     "metadata": {},
     "output_type": "execute_result"
    }
   ],
   "source": [
    "from external.coingecko.read_info_api import get_prices\n",
    "from external.symbiotic.read_info_api import get_operators,get_networks,get_vaults\n",
    "from external.symbiotic.read_info_cli import get_staking_data\n",
    "from external.coingecko.read_info_api import get_prices\n",
    "import polars as pl\n",
    "from itertools import batched\n",
    "import polars as pl\n",
    "pl.Config.set_tbl_cols(50)\n",
    "pl.Config.set_tbl_rows(20)  # Change 50 to any number"
   ]
  },
  {
   "cell_type": "code",
   "execution_count": null,
   "metadata": {},
   "outputs": [
    {
     "name": "stdout",
     "output_type": "stream",
     "text": [
      "Getting operators from Symbiotic API\n",
      "✅ Operators fetched successfully\n",
      "Getting networks from Symbiotic API\n",
      "✅ Networks fetched successfully\n",
      "Running command: python symb.py nets\n",
      "Output:\n",
      "['Connected to chain ID 1', 'All networks [58 total]:', '  Network: 0xcffAca5f6887f307718ae41b9777ca509A5980F1', '    Middleware: 0x0000000000000000000000000000000000000000', '', '  Network: 0x9101eda106A443A0fA82375936D0D1680D5a64F5', '    Middleware: 0x21fD239311B050bbeE7F32850d99ADc224761382', '', '  Network: 0x759D4335cb712aa188935C2bD3Aa6D205aC61305', '    Middleware: 0x32710cF9ea90378c4fbCd5A0416D23633D00d5e8', '', '  Network: 0xE3a148b25Cca54ECCBD3A4aB01e235D154f03eFa', '    Middleware: 0xBf3e64f0f83d5ce7f9BfFA0eE7Ec524e9999D572', '', '  Network: 0x6c7C332a090c8D2085857cf3220eA01C6d45a723', '    Middleware: 0x0000000000000000000000000000000000000000', '', '  Network: 0x3934632DDE8224ae298e11CD040e732256a99D23', '    Middleware: 0x0000000000000000000000000000000000000000', '', '  Network: 0x97Ab4CcFbA2b465F77925E7a58003B5fC0a275B7', '    Middleware: 0x0000000000000000000000000000000000000000', '', '  Network: 0x09505f2B29062dE4E91E0053490B8f6c3f7D29Fc', '    Middleware: 0x0000000000000000000000000000000000000000', '', '  Network: 0xA81E1f42a2a4bf30501bC0b7Bbb18080e6Dd6D68', '    Middleware: 0x0000000000000000000000000000000000000000', '', '  Network: 0x47482dA197719f2CE0BAeBB7F72D1d7C1D6cc8bD', '    Middleware: 0x2cf1832ef10D9a350476f520D6828cC2c944Bf94', '', '  Network: 0x5d24dBA4ccdE2C5B7bC5b609c6a3D5150acB9447', '    Middleware: 0x0000000000000000000000000000000000000000', '', '  Network: 0x9350543a7f56875b9fD2d26928fA51784740BA13', '    Middleware: 0x96d37DC47CBE2486E25c4a4587FFCdc48cDd3172', '', '  Network: 0x0E66CD3A8117b72f5Bd8e81cC078ddb8fe15D86C', '    Middleware: 0x0000000000000000000000000000000000000000', '', '  Network: 0x29262D2f01C7C7403F15963acA8D06daa0B81db6', '    Middleware: 0x0000000000000000000000000000000000000000', '', '  Network: 0x59cf937Ea9FA9D7398223E3aA33d92F7f5f986A2', '    Middleware: 0x0000000000000000000000000000000000000000', '', '  Network: 0x3a7B173124DcFeCff1847FF7f8f56e72ABE02340', '    Middleware: 0xC141DE136254fD5954b779cC01b57f98Ee3A60E8', '', '  Network: 0xdaEE5dA6c6597226DA268644d30257800D1B858D', '    Middleware: 0x0000000000000000000000000000000000000000', '', '  Network: 0x42F15F9E4dF4994317453477e80e24797CC1A929', '    Middleware: 0x42F15F9E4dF4994317453477e80e24797CC1A929', '', '  Network: 0xAD12e74847d6D1487A6a3A6b75D1f509f3F627e8', '    Middleware: 0xAD12e74847d6D1487A6a3A6b75D1f509f3F627e8', '', '  Network: 0xfCa0128A19A5c06b0148c27ee7623417a11BaAbd', '    Middleware: 0x1f0A1818c1a2ECb84f46211e78e7dEC22d9BE737', '', '  Network: 0xF74a6F2c0897f6B45BDc5584B4426cD51486016E', '    Middleware: 0x0000000000000000000000000000000000000000', '', '  Network: 0x8560C667Ae72F28D09465B342A480daB28821f6b', '    Middleware: 0x90A8E9685a801135d7EF411A2dfB3bD023A9a965', '', '  Network: 0xA42ec46F2c9DC671a72218E145CC13dc119fB722', '    Middleware: 0x74c4eF33fce5bbfDb786c65efca513C68C7d19C3', '', '  Network: 0xe4661BDbC4f557d2684F8a7C4aF50572e51D4166', '    Middleware: 0xBe782C45B94712BEBE8CE11F2acbfF71C5190C0c', '', '  Network: 0x5112EbA9bc2468Bb5134CBfbEAb9334EdaE7106a', '    Middleware: 0x96d37DC47CBE2486E25c4a4587FFCdc48cDd3172', '', '  Network: 0xcf128E88E11507aBAd12a7624A34E3d22F731AbC', '    Middleware: 0x0000000000000000000000000000000000000000', '', '  Network: 0x34fa812b5470E2229501bB3a3eAE4a6c6178d704', '    Middleware: 0x34fa812b5470E2229501bB3a3eAE4a6c6178d704', '', '  Network: 0x4472A214552FD3b1bE9086de364D8c3f0cc87c31', '    Middleware: 0x4472A214552FD3b1bE9086de364D8c3f0cc87c31', '', '  Network: 0x0710613f6AA7623F47B8c1C3d036F62fe5AB5200', '    Middleware: 0x0000000000000000000000000000000000000000', '', '  Network: 0x213F448e7a1C8DAEDe41cf94883Cc6149244d00F', '    Middleware: 0x3E98568770Af932353a2a8C3E3b77cDB7f0c2FA1', '', '  Network: 0x83742C346E9f305dcA94e20915aB49A483d33f3E', '    Middleware: 0x83742C346E9f305dcA94e20915aB49A483d33f3E', '', '  Network: 0xfb6CFeF0e4b12C8aa08F7E8cc0Ed0459ED8f198D', '    Middleware: 0x0000000000000000000000000000000000000000', '', '  Network: 0x769Be2F3eaA9A6aC236D55F63A944b975c68fF98', '    Middleware: 0x0000000000000000000000000000000000000000', '', '  Network: 0x714f86f2FdaC2000d9598a771E2F92d73eE3D8D8', '    Middleware: 0x0000000000000000000000000000000000000000', '', '  Network: 0x24749AedF18208aB74A8110E07E820286Bb5acf8', '    Middleware: 0x0000000000000000000000000000000000000000', '', '  Network: 0x64AEB121fc52446a54F5cEeC5Cb029b0C638937B', '    Middleware: 0x0000000000000000000000000000000000000000', '', '  Network: 0xBA7D36444Bc82cD6832d0b4D0f57184b47C3fEF2', '    Middleware: 0x0000000000000000000000000000000000000000', '', '  Network: 0xc2B55dAC8D663d5247e4ADd67efb76aD132B31c0', '    Middleware: 0x0000000000000000000000000000000000000000', '', '  Network: 0xFE5222c1997c64a7C16daB4011Fcd1a4E8841402', '    Middleware: 0x0000000000000000000000000000000000000000', '', '  Network: 0x8c0445BcC74b2EECa29dC4C5b794F484Ab9C7458', '    Middleware: 0x0000000000000000000000000000000000000000', '', '  Network: 0x7b0e92fB2646f03dc3c6317ce546F5882Be4a77d', '    Middleware: 0x0000000000000000000000000000000000000000', '', '  Network: 0xD0372c2051ED4E2D154B51cd9a462024674EB62F', '    Middleware: 0x0000000000000000000000000000000000000000', '', '  Network: 0xfD41Ac34a5388AEAd22F878d0CFba357da41D6e8', '    Middleware: 0x0000000000000000000000000000000000000000', '', '  Network: 0xcF02735406081a52141b56EB87603516C67285EF', '    Middleware: 0x0000000000000000000000000000000000000000', '', '  Network: 0xF8120ab5f32acA32e9AeB0e8C7f60086E749ae23', '    Middleware: 0x0000000000000000000000000000000000000000', '', '  Network: 0x1ABf05722dF8e1f6c9669C379b2Ca52c181BcF05', '    Middleware: 0x0000000000000000000000000000000000000000', '', '  Network: 0xc4C0384e3bE7C4852D415EB538cbC2Aa42154a64', '    Middleware: 0x0000000000000000000000000000000000000000', '', '  Network: 0x3D51984bC5324801A57DC41EfCCaDC85366116B9', '    Middleware: 0x0000000000000000000000000000000000000000', '', '  Network: 0x0fAa7C5313f064a16F15C4F2676604281e577E70', '    Middleware: 0x0000000000000000000000000000000000000000', '', '  Network: 0x3639E6486122bDB5ea517f89B51dcdE031E55e4b', '    Middleware: 0x0000000000000000000000000000000000000000', '', '  Network: 0x080349F3D43218c4b62A3e0505a9D7e228F7272c', '    Middleware: 0x0000000000000000000000000000000000000000', '', '  Network: 0xaA4D909673223Afb9dD12830E896A45E0A647b09', '    Middleware: 0x0000000000000000000000000000000000000000', '', '  Network: 0x90Af2585750D38D7d9669609605114E400AE498c', '    Middleware: 0x0000000000000000000000000000000000000000', '', '  Network: 0x340Cfb27368e7456119614B8dDB4B3244Fa4ec06', '    Middleware: 0x0000000000000000000000000000000000000000', '', '  Network: 0x11287296C10668F0410b35d0B771dD5dF71E6113', '    Middleware: 0x0000000000000000000000000000000000000000', '', '  Network: 0x77A746A8268Ff33023fE22757AdF4a7656267A31', '    Middleware: 0x0000000000000000000000000000000000000000', '', '  Network: 0xe63577A3f938eE23Eae54Bdb22539F5E6fec865d', '    Middleware: 0x0000000000000000000000000000000000000000', '', '  Network: 0xA2ea4CbC90326B237AFf4a8E7D166aB082B6BE19', '    Middleware: 0x0000000000000000000000000000000000000000']\n",
      "\n",
      "✅ Found 58 AVS addresses.\n",
      "Running command: python symb.py netstakes 0xcffaca5f6887f307718ae41b9777ca509a5980f1\n",
      "Output:\n",
      "['Connected to chain ID 1', 'Network: 0xcffAca5f6887f307718ae41b9777ca509A5980F1', 'Middleware: 0x0000000000000000000000000000000000000000', 'Operators [1 total]:', '  Operator: 0x4Ea457e3F11B1ba9a8D58d3Fd2A501FB9d989E6B', '    Total stake: 0', '', 'Total stakes:']\n",
      "\n",
      "Running command: python symb.py netstakes 0x9101eda106a443a0fa82375936d0d1680d5a64f5\n",
      "Output:\n",
      "['Connected to chain ID 1', 'Network: 0x9101eda106A443A0fA82375936D0D1680D5a64F5', 'Middleware: 0x21fD239311B050bbeE7F32850d99ADc224761382', 'Operators [25 total]:', '  Operator: 0xcf28Fe3A1B73887e405bf955Bf52D9341F666CAa', '    Total stake: 0', '', '  Operator: 0xAC128Aa884c64cbE6Afecf5c006D51C2bb1Bf819', '    Collateral: 0xf951E335afb289353dc249e82926178EaC7DEd78 (swETH)', '      Vault: 0x65B560d887c010c4993C8F8B36E595C171d69D63', '        Type: NetworkRestake / VetoSlasher', '        Stake: 4.0', '    Collateral: 0xBe9895146f7AF43049ca1c1AE358B0541Ea49704 (cbETH)', '      Vault: 0xB8Fd82169a574eB97251bF43e443310D33FF056C', '        Type: NetworkRestake / VetoSlasher', '        Stake: 4.0', '    Collateral: 0xa2E3356610840701BDf5611a53974510Ae27E2e1 (wBETH)', '      Vault: 0x81bb35c4152B605574BAbD320f8EABE2871CE8C6', '        Type: NetworkRestake / VetoSlasher', '        Stake: 4.0', '    Collateral: 0xae78736Cd615f374D3085123A210448E74Fc6393 (rETH)', '      Vault: 0xaF07131C497E06361dc2F75de63dc1d3e113f7cb', '        Type: NetworkRestake / VetoSlasher', '        Stake: 4.0', '    Collateral: 0x7f39C581F595B53c5cb19bD0b3f8dA6c935E2Ca0 (wstETH)', '      Vault: 0xa88e91cEF50b792f9449e2D4C699b6B3CcE1D19F', '        Type: NetworkRestake / VetoSlasher', '        Stake: 9298.403230854567', '    Collateral: 0x9D39A5DE30e57443BfF2A8307A4256c8797A3497 (sUSDe)', '      Vault: 0x3bA6930baC1630873F5fd206e293cA543Fcea7A2', '        Type: NetworkRestake / VetoSlasher', '        Stake: 14000.0', '    Total stake: 4.0 swETH + 4.0 cbETH + 4.0 wBETH + 4.0 rETH + 9298.403230854567 wstETH + 14000.0 sUSDe', '', '  Operator: 0x6f64DeCffDE23AA598724325202f8324c231A682', '    Collateral: 0x7f39C581F595B53c5cb19bD0b3f8dA6c935E2Ca0 (wstETH)', '      Vault: 0x3Bf5c2aEFDe8F3cFb8041D121B6e63d72Fd28abf', '        Type: OperatorSpecific / VetoSlasher', '        Stake: 8.973908697560567', '    Total stake: 8.973908697560567 wstETH', '', '  Operator: 0xEe92C0CeF065819BFE17A5626b8209f64D82971e', '    Total stake: 0', '', '  Operator: 0x9321d38c355d1D8cB9dbfC05a5c0f347b1DDa46a', '    Collateral: 0x8c1BEd5b9a0928467c9B1341Da1D7BD5e10b6549 (LsETH)', '      Vault: 0xEa0F2EA61998346aD39dddeF7513ae90915AFb3c', '        Type: NetworkRestake / VetoSlasher', '        Stake: 900.4404343404626', '    Total stake: 900.4404343404626 LsETH', '', '  Operator: 0x9766e9e3045a8cEd5E1fa5B72AEEeEC9D74D00d0', '    Total stake: 0', '', '  Operator: 0x69F5a3458b42d3162B64b6457cCFFde00abD2F09', '    Total stake: 0', '', '  Operator: 0x93fDa90D946243B6A1823d24344D0b8F8ED87Edb', '    Total stake: 0', '', '  Operator: 0xd741F826c60DaCEBB8835278E0F18f1C5DD4c6d0', '    Collateral: 0xf951E335afb289353dc249e82926178EaC7DEd78 (swETH)', '      Vault: 0x65B560d887c010c4993C8F8B36E595C171d69D63', '        Type: NetworkRestake / VetoSlasher', '        Stake: 4.0', '    Collateral: 0xBe9895146f7AF43049ca1c1AE358B0541Ea49704 (cbETH)', '      Vault: 0xB8Fd82169a574eB97251bF43e443310D33FF056C', '        Type: NetworkRestake / VetoSlasher', '        Stake: 4.0', '    Collateral: 0xa2E3356610840701BDf5611a53974510Ae27E2e1 (wBETH)', '      Vault: 0x81bb35c4152B605574BAbD320f8EABE2871CE8C6', '        Type: NetworkRestake / VetoSlasher', '        Stake: 4.0', '    Collateral: 0xae78736Cd615f374D3085123A210448E74Fc6393 (rETH)', '      Vault: 0xaF07131C497E06361dc2F75de63dc1d3e113f7cb', '        Type: NetworkRestake / VetoSlasher', '        Stake: 4.0', '    Collateral: 0x7f39C581F595B53c5cb19bD0b3f8dA6c935E2Ca0 (wstETH)', '      Vault: 0xa88e91cEF50b792f9449e2D4C699b6B3CcE1D19F', '        Type: NetworkRestake / VetoSlasher', '        Stake: 9298.403230854567', '    Collateral: 0x9D39A5DE30e57443BfF2A8307A4256c8797A3497 (sUSDe)', '      Vault: 0x3bA6930baC1630873F5fd206e293cA543Fcea7A2', '        Type: NetworkRestake / VetoSlasher', '        Stake: 14000.0', '    Collateral: 0x8c1BEd5b9a0928467c9B1341Da1D7BD5e10b6549 (LsETH)', '      Vault: 0xEa0F2EA61998346aD39dddeF7513ae90915AFb3c', '        Type: NetworkRestake / VetoSlasher', '        Stake: 360.17617373618504', '    Total stake: 4.0 swETH + 4.0 cbETH + 4.0 wBETH + 4.0 rETH + 9298.403230854567 wstETH + 14000.0 sUSDe + 360.17617373618504 LsETH', '', '  Operator: 0x9A9b849A8d099B4D233928c7EF396680D5a90E19', '    Total stake: 0', '', '  Operator: 0x2A21EaAe1519D852296a158549416442fbb1fdD2', '    Total stake: 0', '', '  Operator: 0xAc825B38A0FeDa122BeB7bFBcFC03Af81D65C10f', '    Total stake: 0', '', '  Operator: 0x51B6D824bd35AeD4FD1a9E253E41Dc7C9feeFa30', '    Collateral: 0xf951E335afb289353dc249e82926178EaC7DEd78 (swETH)', '      Vault: 0x65B560d887c010c4993C8F8B36E595C171d69D63', '        Type: NetworkRestake / VetoSlasher', '        Stake: 4.0', '    Collateral: 0xBe9895146f7AF43049ca1c1AE358B0541Ea49704 (cbETH)', '      Vault: 0xB8Fd82169a574eB97251bF43e443310D33FF056C', '        Type: NetworkRestake / VetoSlasher', '        Stake: 4.0', '    Collateral: 0xa2E3356610840701BDf5611a53974510Ae27E2e1 (wBETH)', '      Vault: 0x81bb35c4152B605574BAbD320f8EABE2871CE8C6', '        Type: NetworkRestake / VetoSlasher', '        Stake: 4.0', '    Collateral: 0xae78736Cd615f374D3085123A210448E74Fc6393 (rETH)', '      Vault: 0xaF07131C497E06361dc2F75de63dc1d3e113f7cb', '        Type: NetworkRestake / VetoSlasher', '        Stake: 4.0', '    Collateral: 0x7f39C581F595B53c5cb19bD0b3f8dA6c935E2Ca0 (wstETH)', '      Vault: 0xa88e91cEF50b792f9449e2D4C699b6B3CcE1D19F', '        Type: NetworkRestake / VetoSlasher', '        Stake: 9298.403230854567', '    Collateral: 0x9D39A5DE30e57443BfF2A8307A4256c8797A3497 (sUSDe)', '      Vault: 0x3bA6930baC1630873F5fd206e293cA543Fcea7A2', '        Type: NetworkRestake / VetoSlasher', '        Stake: 14000.0', '    Collateral: 0x8c1BEd5b9a0928467c9B1341Da1D7BD5e10b6549 (LsETH)', '      Vault: 0xEa0F2EA61998346aD39dddeF7513ae90915AFb3c', '        Type: NetworkRestake / VetoSlasher', '        Stake: 720.3523474723701', '    Total stake: 4.0 swETH + 4.0 cbETH + 4.0 wBETH + 4.0 rETH + 9298.403230854567 wstETH + 14000.0 sUSDe + 720.3523474723701 LsETH', '', '  Operator: 0x5d24dBA4ccdE2C5B7bC5b609c6a3D5150acB9447', '    Total stake: 0', '', '  Operator: 0x57A58ff6f5724d29C05a4d0B29d07b82817C50D5', '    Total stake: 0', '', '  Operator: 0xe8e54EA992a3f8aaED7f05de7C1487855674A3cf', '    Collateral: 0xC02aaA39b223FE8D0A0e5C4F27eAD9083C756Cc2 (WETH)', '      Vault: 0xE4036CCAC852faA1F1c00E38b426F6Abbd911996', '        Type: NetworkRestake / InstantSlasher', '        Stake: 0.05', '    Total stake: 0.05 WETH', '', '  Operator: 0x34Fb42588Bb13A556c24B9D016edAc61caEbAF5c', '    Total stake: 0', '', '  Operator: 0xF74a6F2c0897f6B45BDc5584B4426cD51486016E', '    Total stake: 0', '', '  Operator: 0xfd42c11Bf9518A078445b04857B205Fee688b133', '    Collateral: 0x7f39C581F595B53c5cb19bD0b3f8dA6c935E2Ca0 (wstETH)', '      Vault: 0xC72e34D33ee7eF2Dd0BBAFF1839B5053729c0A65', '        Type: OperatorSpecific / VetoSlasher', '        Stake: 30.0', '    Collateral: 0x8c1BEd5b9a0928467c9B1341Da1D7BD5e10b6549 (LsETH)', '      Vault: 0xEa0F2EA61998346aD39dddeF7513ae90915AFb3c', '        Type: NetworkRestake / VetoSlasher', '        Stake: 360.17617373618504', '    Total stake: 30.0 wstETH + 360.17617373618504 LsETH', '', '  Operator: 0xfF645D02C79141424fb4F8bBB5e494f05067c08B', '    Collateral: 0xf951E335afb289353dc249e82926178EaC7DEd78 (swETH)', '      Vault: 0x65B560d887c010c4993C8F8B36E595C171d69D63', '        Type: NetworkRestake / VetoSlasher', '        Stake: 4.0', '    Collateral: 0x7f39C581F595B53c5cb19bD0b3f8dA6c935E2Ca0 (wstETH)', '      Vault: 0xc10A7f0AC6E3944F4860eE97a937C51572e3a1Da', '        Type: NetworkRestake / VetoSlasher', '        Stake: 20.0', '    Collateral: 0xBe9895146f7AF43049ca1c1AE358B0541Ea49704 (cbETH)', '      Vault: 0xB8Fd82169a574eB97251bF43e443310D33FF056C', '        Type: NetworkRestake / VetoSlasher', '        Stake: 4.0', '    Collateral: 0xa2E3356610840701BDf5611a53974510Ae27E2e1 (wBETH)', '      Vault: 0x81bb35c4152B605574BAbD320f8EABE2871CE8C6', '        Type: NetworkRestake / VetoSlasher', '        Stake: 4.0', '    Collateral: 0xae78736Cd615f374D3085123A210448E74Fc6393 (rETH)', '      Vault: 0xaF07131C497E06361dc2F75de63dc1d3e113f7cb', '        Type: NetworkRestake / VetoSlasher', '        Stake: 4.0', '    Collateral: 0x9D39A5DE30e57443BfF2A8307A4256c8797A3497 (sUSDe)', '      Vault: 0x3bA6930baC1630873F5fd206e293cA543Fcea7A2', '        Type: NetworkRestake / VetoSlasher', '        Stake: 14000.0', '    Collateral: 0x8c1BEd5b9a0928467c9B1341Da1D7BD5e10b6549 (LsETH)', '      Vault: 0xEa0F2EA61998346aD39dddeF7513ae90915AFb3c', '        Type: NetworkRestake / VetoSlasher', '        Stake: 1260.6166080766477', '    Total stake: 4.0 swETH + 20.0 wstETH + 4.0 cbETH + 4.0 wBETH + 4.0 rETH + 14000.0 sUSDe + 1260.6166080766477 LsETH', '', '  Operator: 0x767e67dE863C1E8E7880579e99a3C99aB1Ffb257', '    Total stake: 0', '', '  Operator: 0x087c25f83ED20bda587CFA035ED0c96338D4660f', '    Collateral: 0xf951E335afb289353dc249e82926178EaC7DEd78 (swETH)', '      Vault: 0x65B560d887c010c4993C8F8B36E595C171d69D63', '        Type: NetworkRestake / VetoSlasher', '        Stake: 4.0', '    Collateral: 0xBe9895146f7AF43049ca1c1AE358B0541Ea49704 (cbETH)', '      Vault: 0xB8Fd82169a574eB97251bF43e443310D33FF056C', '        Type: NetworkRestake / VetoSlasher', '        Stake: 4.0', '    Collateral: 0xa2E3356610840701BDf5611a53974510Ae27E2e1 (wBETH)', '      Vault: 0x81bb35c4152B605574BAbD320f8EABE2871CE8C6', '        Type: NetworkRestake / VetoSlasher', '        Stake: 4.0', '    Collateral: 0xae78736Cd615f374D3085123A210448E74Fc6393 (rETH)', '      Vault: 0xaF07131C497E06361dc2F75de63dc1d3e113f7cb', '        Type: NetworkRestake / VetoSlasher', '        Stake: 4.0', '    Collateral: 0x7f39C581F595B53c5cb19bD0b3f8dA6c935E2Ca0 (wstETH)', '      Vault: 0x7b276aAD6D2ebfD7e270C5a2697ac79182D9550E', '        Type: NetworkRestake / VetoSlasher', '        Stake: 2500.0', '    Collateral: 0x9D39A5DE30e57443BfF2A8307A4256c8797A3497 (sUSDe)', '      Vault: 0x3bA6930baC1630873F5fd206e293cA543Fcea7A2', '        Type: NetworkRestake / VetoSlasher', '        Stake: 14000.0', '    Total stake: 4.0 swETH + 4.0 cbETH + 4.0 wBETH + 4.0 rETH + 2500.0 wstETH + 14000.0 sUSDe', '', '  Operator: 0x9431cAD056a6398Cc835DFb16BaEA7B1A8064C88', '    Total stake: 0', '', '  Operator: 0x030d6216f27B4370D9e173ff6dd2e192166cbA19', '    Total stake: 0', '', '  Operator: 0x0eDe31863D6d77a4db7126B401b34598E8EAd8F0', '    Total stake: 0', '', 'Total stakes:', '  Collateral 0xf951E335afb289353dc249e82926178EaC7DEd78 (swETH): 20.0', '  Collateral 0xBe9895146f7AF43049ca1c1AE358B0541Ea49704 (cbETH): 20.0', '  Collateral 0xa2E3356610840701BDf5611a53974510Ae27E2e1 (wBETH): 20.0', '  Collateral 0xae78736Cd615f374D3085123A210448E74Fc6393 (rETH): 20.0', '  Collateral 0x7f39C581F595B53c5cb19bD0b3f8dA6c935E2Ca0 (wstETH): 30454.183601261262', '  Collateral 0x9D39A5DE30e57443BfF2A8307A4256c8797A3497 (sUSDe): 70000.0', '  Collateral 0x8c1BEd5b9a0928467c9B1341Da1D7BD5e10b6549 (LsETH): 3601.7617373618505', '  Collateral 0xC02aaA39b223FE8D0A0e5C4F27eAD9083C756Cc2 (WETH): 0.05']\n",
      "\n",
      "Running command: python symb.py netstakes 0x759d4335cb712aa188935c2bd3aa6d205ac61305\n"
     ]
    }
   ],
   "source": [
    "### Get data from Symbiotic API\n",
    "df_operators = await get_operators()\n",
    "df_networks = await get_networks()\n",
    "#df_vaults = await get_vaults()\n",
    "\n",
    "df_staking_data = get_staking_data(\"python symb.py nets\")\n",
    "\n",
    "# Get unique addresses\n",
    "unique_price_list = df_staking_data[\"collateral_asset_address\"].unique().to_list()\n",
    "\n",
    "# Store results in a list and convert to DataFrame at the end\n",
    "price_results = []\n",
    "\n",
    "for batch in batched(unique_price_list, 5):  # Batch size of 5\n",
    "    contract_addresses_string = \",\".join(batch)    \n",
    "    price_results.append(await get_prices(contract_addresses_string))\n",
    "\n",
    "# Convert the list of results into a Polars DataFrame\n",
    "prices = pl.concat(price_results)\n",
    "\n",
    "print(prices)\n",
    "\n",
    "df_staking_data = df_staking_data.with_columns(\n",
    "    pl.col(\"collateral_asset_address\").lower().alias(\"collateral_asset_address\")\n",
    ")\n",
    "\n",
    "df_staking_data = df_staking_data.join(\n",
    "                        df_operators,\n",
    "                        on=['node_operator_address'],\n",
    "                        how='left'\n",
    "                    ).join(\n",
    "                        df_networks,\n",
    "                        on=['network_address'],\n",
    "                        how='left'\n",
    "                        ).join(\n",
    "                        prices,\n",
    "                        on=['collateral_asset_address'],\n",
    "                        how='left'\n",
    "                    )\n",
    "\n",
    "df_staking_data = df_staking_data.with_columns(\n",
    "    pl.col(\"amount_staked\") * pl.col(\"collateral_asset_price\").alias(\"amount_staked_usd\")\n",
    ")\n",
    "print(df_staking_data)\n",
    "print(df_staking_data.null_count())"
   ]
  },
  {
   "cell_type": "code",
   "execution_count": null,
   "metadata": {},
   "outputs": [],
   "source": [
    "df_staking_data = df_staking_data.drop([\"collateral_asset_price\", \"node_operator_name\",\"network_name\"])"
   ]
  },
  {
   "cell_type": "code",
   "execution_count": 4,
   "metadata": {},
   "outputs": [
    {
     "data": {
      "text/html": [
       "<div><style>\n",
       ".dataframe > thead > tr,\n",
       ".dataframe > tbody > tr {\n",
       "  text-align: right;\n",
       "  white-space: pre-wrap;\n",
       "}\n",
       "</style>\n",
       "<small>shape: (445, 9)</small><table border=\"1\" class=\"dataframe\"><thead><tr><th>network_address</th><th>node_operator_address</th><th>collateral_asset_address</th><th>collateral_asset_symbol</th><th>amount_staked</th><th>timestamp</th><th>node_operator_name</th><th>network_name</th><th>collateral_asset_price</th></tr><tr><td>str</td><td>str</td><td>str</td><td>str</td><td>f64</td><td>datetime[μs]</td><td>str</td><td>str</td><td>f64</td></tr></thead><tbody><tr><td>&quot;0x9101eda106a443a0fa82375936d0…</td><td>&quot;0xac128aa884c64cbe6afecf5c006d…</td><td>&quot;0xf951E335afb289353dc249e82926…</td><td>&quot;sweth&quot;</td><td>null</td><td>2025-03-16 17:00:00</td><td>null</td><td>&quot;Mev-commit&quot;</td><td>null</td></tr><tr><td>&quot;0x9101eda106a443a0fa82375936d0…</td><td>&quot;0xac128aa884c64cbe6afecf5c006d…</td><td>&quot;0xBe9895146f7AF43049ca1c1AE358…</td><td>&quot;cbeth&quot;</td><td>null</td><td>2025-03-16 17:00:00</td><td>null</td><td>&quot;Mev-commit&quot;</td><td>null</td></tr><tr><td>&quot;0x9101eda106a443a0fa82375936d0…</td><td>&quot;0xac128aa884c64cbe6afecf5c006d…</td><td>&quot;0xa2E3356610840701BDf5611a5397…</td><td>&quot;wbeth&quot;</td><td>null</td><td>2025-03-16 17:00:00</td><td>null</td><td>&quot;Mev-commit&quot;</td><td>null</td></tr><tr><td>&quot;0x9101eda106a443a0fa82375936d0…</td><td>&quot;0xac128aa884c64cbe6afecf5c006d…</td><td>&quot;0xae78736Cd615f374D3085123A210…</td><td>&quot;reth&quot;</td><td>null</td><td>2025-03-16 17:00:00</td><td>null</td><td>&quot;Mev-commit&quot;</td><td>null</td></tr><tr><td>&quot;0x9101eda106a443a0fa82375936d0…</td><td>&quot;0xac128aa884c64cbe6afecf5c006d…</td><td>&quot;0x7f39C581F595B53c5cb19bD0b3f8…</td><td>&quot;wsteth&quot;</td><td>null</td><td>2025-03-16 17:00:00</td><td>null</td><td>&quot;Mev-commit&quot;</td><td>null</td></tr><tr><td>&quot;0x9101eda106a443a0fa82375936d0…</td><td>&quot;0xac128aa884c64cbe6afecf5c006d…</td><td>&quot;0x9D39A5DE30e57443BfF2A8307A42…</td><td>&quot;susde&quot;</td><td>null</td><td>2025-03-16 17:00:00</td><td>null</td><td>&quot;Mev-commit&quot;</td><td>null</td></tr><tr><td>&quot;0x9101eda106a443a0fa82375936d0…</td><td>&quot;0x6f64decffde23aa598724325202f…</td><td>&quot;0x7f39C581F595B53c5cb19bD0b3f8…</td><td>&quot;wsteth&quot;</td><td>null</td><td>2025-03-16 17:00:00</td><td>null</td><td>&quot;Mev-commit&quot;</td><td>null</td></tr><tr><td>&quot;0x9101eda106a443a0fa82375936d0…</td><td>&quot;0x9321d38c355d1d8cb9dbfc05a5c0…</td><td>&quot;0x8c1BEd5b9a0928467c9B1341Da1D…</td><td>&quot;lseth&quot;</td><td>null</td><td>2025-03-16 17:00:00</td><td>null</td><td>&quot;Mev-commit&quot;</td><td>null</td></tr><tr><td>&quot;0x9101eda106a443a0fa82375936d0…</td><td>&quot;0xd741f826c60dacebb8835278e0f1…</td><td>&quot;0xf951E335afb289353dc249e82926…</td><td>&quot;sweth&quot;</td><td>null</td><td>2025-03-16 17:00:00</td><td>null</td><td>&quot;Mev-commit&quot;</td><td>null</td></tr><tr><td>&quot;0x9101eda106a443a0fa82375936d0…</td><td>&quot;0xd741f826c60dacebb8835278e0f1…</td><td>&quot;0xBe9895146f7AF43049ca1c1AE358…</td><td>&quot;cbeth&quot;</td><td>null</td><td>2025-03-16 17:00:00</td><td>null</td><td>&quot;Mev-commit&quot;</td><td>null</td></tr><tr><td>&hellip;</td><td>&hellip;</td><td>&hellip;</td><td>&hellip;</td><td>&hellip;</td><td>&hellip;</td><td>&hellip;</td><td>&hellip;</td><td>&hellip;</td></tr><tr><td>&quot;0x5112eba9bc2468bb5134cbfbeab9…</td><td>&quot;0x087c25f83ed20bda587cfa035ed0…</td><td>&quot;0x7f39C581F595B53c5cb19bD0b3f8…</td><td>&quot;wsteth&quot;</td><td>null</td><td>2025-03-16 17:00:00</td><td>&quot;P2P.org&quot;</td><td>&quot;Symbiosis&quot;</td><td>null</td></tr><tr><td>&quot;0x5112eba9bc2468bb5134cbfbeab9…</td><td>&quot;0x087c25f83ed20bda587cfa035ed0…</td><td>&quot;0x7f39C581F595B53c5cb19bD0b3f8…</td><td>&quot;wsteth&quot;</td><td>null</td><td>2025-03-16 17:00:00</td><td>&quot;P2P.org&quot;</td><td>&quot;Symbiosis&quot;</td><td>null</td></tr><tr><td>&quot;0x5112eba9bc2468bb5134cbfbeab9…</td><td>&quot;0x087c25f83ed20bda587cfa035ed0…</td><td>&quot;0xae78736Cd615f374D3085123A210…</td><td>&quot;reth&quot;</td><td>null</td><td>2025-03-16 17:00:00</td><td>&quot;P2P.org&quot;</td><td>&quot;Symbiosis&quot;</td><td>null</td></tr><tr><td>&quot;0x5112eba9bc2468bb5134cbfbeab9…</td><td>&quot;0x5112eba9bc2468bb5134cbfbeab9…</td><td>&quot;0xd38BB40815d2B0c2d2c866e0c72c…</td><td>&quot;sis&quot;</td><td>null</td><td>2025-03-16 17:00:00</td><td>null</td><td>&quot;Symbiosis&quot;</td><td>null</td></tr><tr><td>&quot;0xcf128e88e11507abad12a7624a34…</td><td>&quot;0x51b6d824bd35aed4fd1a9e253e41…</td><td>&quot;0x7f39C581F595B53c5cb19bD0b3f8…</td><td>&quot;wsteth&quot;</td><td>null</td><td>2025-03-16 17:00:00</td><td>null</td><td>&quot;Router Xtend Network&quot;</td><td>null</td></tr><tr><td>&quot;0xcf128e88e11507abad12a7624a34…</td><td>&quot;0xff645d02c79141424fb4f8bbb5e4…</td><td>&quot;0x7f39C581F595B53c5cb19bD0b3f8…</td><td>&quot;wsteth&quot;</td><td>null</td><td>2025-03-16 17:00:00</td><td>null</td><td>&quot;Router Xtend Network&quot;</td><td>null</td></tr><tr><td>&quot;0xcf128e88e11507abad12a7624a34…</td><td>&quot;0x087c25f83ed20bda587cfa035ed0…</td><td>&quot;0x7f39C581F595B53c5cb19bD0b3f8…</td><td>&quot;wsteth&quot;</td><td>null</td><td>2025-03-16 17:00:00</td><td>&quot;P2P.org&quot;</td><td>&quot;Router Xtend Network&quot;</td><td>null</td></tr><tr><td>&quot;0xcf128e88e11507abad12a7624a34…</td><td>&quot;0x888f7454e65d213c89ba92020e0d…</td><td>&quot;0x7f39C581F595B53c5cb19bD0b3f8…</td><td>&quot;wsteth&quot;</td><td>null</td><td>2025-03-16 17:00:00</td><td>null</td><td>&quot;Router Xtend Network&quot;</td><td>null</td></tr><tr><td>&quot;0x213f448e7a1c8daede41cf94883c…</td><td>&quot;0xf28aca7029e35120d0b1205038ac…</td><td>&quot;0xfC385A1dF85660a7e041423DB512…</td><td>&quot;zkl&quot;</td><td>null</td><td>2025-03-16 17:00:00</td><td>null</td><td>&quot;zkLink&quot;</td><td>null</td></tr><tr><td>&quot;0x83742c346e9f305dca94e20915ab…</td><td>&quot;0x9766e9e3045a8ced5e1fa5b72aee…</td><td>&quot;0x7f39C581F595B53c5cb19bD0b3f8…</td><td>&quot;wsteth&quot;</td><td>null</td><td>2025-03-16 17:00:00</td><td>null</td><td>null</td><td>null</td></tr></tbody></table></div>"
      ],
      "text/plain": [
       "shape: (445, 9)\n",
       "┌──────────┬──────────┬──────────┬──────────┬──────────┬──────────┬──────────┬──────────┬──────────┐\n",
       "│ network_ ┆ node_ope ┆ collater ┆ collater ┆ amount_s ┆ timestam ┆ node_ope ┆ network_ ┆ collater │\n",
       "│ address  ┆ rator_ad ┆ al_asset ┆ al_asset ┆ taked    ┆ p        ┆ rator_na ┆ name     ┆ al_asset │\n",
       "│ ---      ┆ dress    ┆ _address ┆ _symbol  ┆ ---      ┆ ---      ┆ me       ┆ ---      ┆ _price   │\n",
       "│ str      ┆ ---      ┆ ---      ┆ ---      ┆ f64      ┆ datetime ┆ ---      ┆ str      ┆ ---      │\n",
       "│          ┆ str      ┆ str      ┆ str      ┆          ┆ [μs]     ┆ str      ┆          ┆ f64      │\n",
       "╞══════════╪══════════╪══════════╪══════════╪══════════╪══════════╪══════════╪══════════╪══════════╡\n",
       "│ 0x9101ed ┆ 0xac128a ┆ 0xf951E3 ┆ sweth    ┆ null     ┆ 2025-03- ┆ null     ┆ Mev-comm ┆ null     │\n",
       "│ a106a443 ┆ a884c64c ┆ 35afb289 ┆          ┆          ┆ 16       ┆          ┆ it       ┆          │\n",
       "│ a0fa8237 ┆ be6afecf ┆ 353dc249 ┆          ┆          ┆ 17:00:00 ┆          ┆          ┆          │\n",
       "│ 5936d0…  ┆ 5c006d…  ┆ e82926…  ┆          ┆          ┆          ┆          ┆          ┆          │\n",
       "│ 0x9101ed ┆ 0xac128a ┆ 0xBe9895 ┆ cbeth    ┆ null     ┆ 2025-03- ┆ null     ┆ Mev-comm ┆ null     │\n",
       "│ a106a443 ┆ a884c64c ┆ 146f7AF4 ┆          ┆          ┆ 16       ┆          ┆ it       ┆          │\n",
       "│ a0fa8237 ┆ be6afecf ┆ 3049ca1c ┆          ┆          ┆ 17:00:00 ┆          ┆          ┆          │\n",
       "│ 5936d0…  ┆ 5c006d…  ┆ 1AE358…  ┆          ┆          ┆          ┆          ┆          ┆          │\n",
       "│ 0x9101ed ┆ 0xac128a ┆ 0xa2E335 ┆ wbeth    ┆ null     ┆ 2025-03- ┆ null     ┆ Mev-comm ┆ null     │\n",
       "│ a106a443 ┆ a884c64c ┆ 66108407 ┆          ┆          ┆ 16       ┆          ┆ it       ┆          │\n",
       "│ a0fa8237 ┆ be6afecf ┆ 01BDf561 ┆          ┆          ┆ 17:00:00 ┆          ┆          ┆          │\n",
       "│ 5936d0…  ┆ 5c006d…  ┆ 1a5397…  ┆          ┆          ┆          ┆          ┆          ┆          │\n",
       "│ 0x9101ed ┆ 0xac128a ┆ 0xae7873 ┆ reth     ┆ null     ┆ 2025-03- ┆ null     ┆ Mev-comm ┆ null     │\n",
       "│ a106a443 ┆ a884c64c ┆ 6Cd615f3 ┆          ┆          ┆ 16       ┆          ┆ it       ┆          │\n",
       "│ a0fa8237 ┆ be6afecf ┆ 74D30851 ┆          ┆          ┆ 17:00:00 ┆          ┆          ┆          │\n",
       "│ 5936d0…  ┆ 5c006d…  ┆ 23A210…  ┆          ┆          ┆          ┆          ┆          ┆          │\n",
       "│ 0x9101ed ┆ 0xac128a ┆ 0x7f39C5 ┆ wsteth   ┆ null     ┆ 2025-03- ┆ null     ┆ Mev-comm ┆ null     │\n",
       "│ a106a443 ┆ a884c64c ┆ 81F595B5 ┆          ┆          ┆ 16       ┆          ┆ it       ┆          │\n",
       "│ a0fa8237 ┆ be6afecf ┆ 3c5cb19b ┆          ┆          ┆ 17:00:00 ┆          ┆          ┆          │\n",
       "│ 5936d0…  ┆ 5c006d…  ┆ D0b3f8…  ┆          ┆          ┆          ┆          ┆          ┆          │\n",
       "│ 0x9101ed ┆ 0xac128a ┆ 0x9D39A5 ┆ susde    ┆ null     ┆ 2025-03- ┆ null     ┆ Mev-comm ┆ null     │\n",
       "│ a106a443 ┆ a884c64c ┆ DE30e574 ┆          ┆          ┆ 16       ┆          ┆ it       ┆          │\n",
       "│ a0fa8237 ┆ be6afecf ┆ 43BfF2A8 ┆          ┆          ┆ 17:00:00 ┆          ┆          ┆          │\n",
       "│ 5936d0…  ┆ 5c006d…  ┆ 307A42…  ┆          ┆          ┆          ┆          ┆          ┆          │\n",
       "│ 0x9101ed ┆ 0x6f64de ┆ 0x7f39C5 ┆ wsteth   ┆ null     ┆ 2025-03- ┆ null     ┆ Mev-comm ┆ null     │\n",
       "│ a106a443 ┆ cffde23a ┆ 81F595B5 ┆          ┆          ┆ 16       ┆          ┆ it       ┆          │\n",
       "│ a0fa8237 ┆ a5987243 ┆ 3c5cb19b ┆          ┆          ┆ 17:00:00 ┆          ┆          ┆          │\n",
       "│ 5936d0…  ┆ 25202f…  ┆ D0b3f8…  ┆          ┆          ┆          ┆          ┆          ┆          │\n",
       "│ 0x9101ed ┆ 0x9321d3 ┆ 0x8c1BEd ┆ lseth    ┆ null     ┆ 2025-03- ┆ null     ┆ Mev-comm ┆ null     │\n",
       "│ a106a443 ┆ 8c355d1d ┆ 5b9a0928 ┆          ┆          ┆ 16       ┆          ┆ it       ┆          │\n",
       "│ a0fa8237 ┆ 8cb9dbfc ┆ 467c9B13 ┆          ┆          ┆ 17:00:00 ┆          ┆          ┆          │\n",
       "│ 5936d0…  ┆ 05a5c0…  ┆ 41Da1D…  ┆          ┆          ┆          ┆          ┆          ┆          │\n",
       "│ 0x9101ed ┆ 0xd741f8 ┆ 0xf951E3 ┆ sweth    ┆ null     ┆ 2025-03- ┆ null     ┆ Mev-comm ┆ null     │\n",
       "│ a106a443 ┆ 26c60dac ┆ 35afb289 ┆          ┆          ┆ 16       ┆          ┆ it       ┆          │\n",
       "│ a0fa8237 ┆ ebb88352 ┆ 353dc249 ┆          ┆          ┆ 17:00:00 ┆          ┆          ┆          │\n",
       "│ 5936d0…  ┆ 78e0f1…  ┆ e82926…  ┆          ┆          ┆          ┆          ┆          ┆          │\n",
       "│ 0x9101ed ┆ 0xd741f8 ┆ 0xBe9895 ┆ cbeth    ┆ null     ┆ 2025-03- ┆ null     ┆ Mev-comm ┆ null     │\n",
       "│ a106a443 ┆ 26c60dac ┆ 146f7AF4 ┆          ┆          ┆ 16       ┆          ┆ it       ┆          │\n",
       "│ a0fa8237 ┆ ebb88352 ┆ 3049ca1c ┆          ┆          ┆ 17:00:00 ┆          ┆          ┆          │\n",
       "│ 5936d0…  ┆ 78e0f1…  ┆ 1AE358…  ┆          ┆          ┆          ┆          ┆          ┆          │\n",
       "│ …        ┆ …        ┆ …        ┆ …        ┆ …        ┆ …        ┆ …        ┆ …        ┆ …        │\n",
       "│ 0x5112eb ┆ 0x087c25 ┆ 0x7f39C5 ┆ wsteth   ┆ null     ┆ 2025-03- ┆ P2P.org  ┆ Symbiosi ┆ null     │\n",
       "│ a9bc2468 ┆ f83ed20b ┆ 81F595B5 ┆          ┆          ┆ 16       ┆          ┆ s        ┆          │\n",
       "│ bb5134cb ┆ da587cfa ┆ 3c5cb19b ┆          ┆          ┆ 17:00:00 ┆          ┆          ┆          │\n",
       "│ fbeab9…  ┆ 035ed0…  ┆ D0b3f8…  ┆          ┆          ┆          ┆          ┆          ┆          │\n",
       "│ 0x5112eb ┆ 0x087c25 ┆ 0x7f39C5 ┆ wsteth   ┆ null     ┆ 2025-03- ┆ P2P.org  ┆ Symbiosi ┆ null     │\n",
       "│ a9bc2468 ┆ f83ed20b ┆ 81F595B5 ┆          ┆          ┆ 16       ┆          ┆ s        ┆          │\n",
       "│ bb5134cb ┆ da587cfa ┆ 3c5cb19b ┆          ┆          ┆ 17:00:00 ┆          ┆          ┆          │\n",
       "│ fbeab9…  ┆ 035ed0…  ┆ D0b3f8…  ┆          ┆          ┆          ┆          ┆          ┆          │\n",
       "│ 0x5112eb ┆ 0x087c25 ┆ 0xae7873 ┆ reth     ┆ null     ┆ 2025-03- ┆ P2P.org  ┆ Symbiosi ┆ null     │\n",
       "│ a9bc2468 ┆ f83ed20b ┆ 6Cd615f3 ┆          ┆          ┆ 16       ┆          ┆ s        ┆          │\n",
       "│ bb5134cb ┆ da587cfa ┆ 74D30851 ┆          ┆          ┆ 17:00:00 ┆          ┆          ┆          │\n",
       "│ fbeab9…  ┆ 035ed0…  ┆ 23A210…  ┆          ┆          ┆          ┆          ┆          ┆          │\n",
       "│ 0x5112eb ┆ 0x5112eb ┆ 0xd38BB4 ┆ sis      ┆ null     ┆ 2025-03- ┆ null     ┆ Symbiosi ┆ null     │\n",
       "│ a9bc2468 ┆ a9bc2468 ┆ 0815d2B0 ┆          ┆          ┆ 16       ┆          ┆ s        ┆          │\n",
       "│ bb5134cb ┆ bb5134cb ┆ c2d2c866 ┆          ┆          ┆ 17:00:00 ┆          ┆          ┆          │\n",
       "│ fbeab9…  ┆ fbeab9…  ┆ e0c72c…  ┆          ┆          ┆          ┆          ┆          ┆          │\n",
       "│ 0xcf128e ┆ 0x51b6d8 ┆ 0x7f39C5 ┆ wsteth   ┆ null     ┆ 2025-03- ┆ null     ┆ Router   ┆ null     │\n",
       "│ 88e11507 ┆ 24bd35ae ┆ 81F595B5 ┆          ┆          ┆ 16       ┆          ┆ Xtend    ┆          │\n",
       "│ abad12a7 ┆ d4fd1a9e ┆ 3c5cb19b ┆          ┆          ┆ 17:00:00 ┆          ┆ Network  ┆          │\n",
       "│ 624a34…  ┆ 253e41…  ┆ D0b3f8…  ┆          ┆          ┆          ┆          ┆          ┆          │\n",
       "│ 0xcf128e ┆ 0xff645d ┆ 0x7f39C5 ┆ wsteth   ┆ null     ┆ 2025-03- ┆ null     ┆ Router   ┆ null     │\n",
       "│ 88e11507 ┆ 02c79141 ┆ 81F595B5 ┆          ┆          ┆ 16       ┆          ┆ Xtend    ┆          │\n",
       "│ abad12a7 ┆ 424fb4f8 ┆ 3c5cb19b ┆          ┆          ┆ 17:00:00 ┆          ┆ Network  ┆          │\n",
       "│ 624a34…  ┆ bbb5e4…  ┆ D0b3f8…  ┆          ┆          ┆          ┆          ┆          ┆          │\n",
       "│ 0xcf128e ┆ 0x087c25 ┆ 0x7f39C5 ┆ wsteth   ┆ null     ┆ 2025-03- ┆ P2P.org  ┆ Router   ┆ null     │\n",
       "│ 88e11507 ┆ f83ed20b ┆ 81F595B5 ┆          ┆          ┆ 16       ┆          ┆ Xtend    ┆          │\n",
       "│ abad12a7 ┆ da587cfa ┆ 3c5cb19b ┆          ┆          ┆ 17:00:00 ┆          ┆ Network  ┆          │\n",
       "│ 624a34…  ┆ 035ed0…  ┆ D0b3f8…  ┆          ┆          ┆          ┆          ┆          ┆          │\n",
       "│ 0xcf128e ┆ 0x888f74 ┆ 0x7f39C5 ┆ wsteth   ┆ null     ┆ 2025-03- ┆ null     ┆ Router   ┆ null     │\n",
       "│ 88e11507 ┆ 54e65d21 ┆ 81F595B5 ┆          ┆          ┆ 16       ┆          ┆ Xtend    ┆          │\n",
       "│ abad12a7 ┆ 3c89ba92 ┆ 3c5cb19b ┆          ┆          ┆ 17:00:00 ┆          ┆ Network  ┆          │\n",
       "│ 624a34…  ┆ 020e0d…  ┆ D0b3f8…  ┆          ┆          ┆          ┆          ┆          ┆          │\n",
       "│ 0x213f44 ┆ 0xf28aca ┆ 0xfC385A ┆ zkl      ┆ null     ┆ 2025-03- ┆ null     ┆ zkLink   ┆ null     │\n",
       "│ 8e7a1c8d ┆ 7029e351 ┆ 1dF85660 ┆          ┆          ┆ 16       ┆          ┆          ┆          │\n",
       "│ aede41cf ┆ 20d0b120 ┆ a7e04142 ┆          ┆          ┆ 17:00:00 ┆          ┆          ┆          │\n",
       "│ 94883c…  ┆ 5038ac…  ┆ 3DB512…  ┆          ┆          ┆          ┆          ┆          ┆          │\n",
       "│ 0x83742c ┆ 0x9766e9 ┆ 0x7f39C5 ┆ wsteth   ┆ null     ┆ 2025-03- ┆ null     ┆ null     ┆ null     │\n",
       "│ 346e9f30 ┆ e3045a8c ┆ 81F595B5 ┆          ┆          ┆ 16       ┆          ┆          ┆          │\n",
       "│ 5dca94e2 ┆ ed5e1fa5 ┆ 3c5cb19b ┆          ┆          ┆ 17:00:00 ┆          ┆          ┆          │\n",
       "│ 0915ab…  ┆ b72aee…  ┆ D0b3f8…  ┆          ┆          ┆          ┆          ┆          ┆          │\n",
       "└──────────┴──────────┴──────────┴──────────┴──────────┴──────────┴──────────┴──────────┴──────────┘"
      ]
     },
     "execution_count": 4,
     "metadata": {},
     "output_type": "execute_result"
    }
   ],
   "source": [
    "df_staking_data"
   ]
  },
  {
   "cell_type": "code",
   "execution_count": 6,
   "metadata": {},
   "outputs": [
    {
     "data": {
      "text/html": [
       "<div><style>\n",
       ".dataframe > thead > tr,\n",
       ".dataframe > tbody > tr {\n",
       "  text-align: right;\n",
       "  white-space: pre-wrap;\n",
       "}\n",
       "</style>\n",
       "<small>shape: (20, 2)</small><table border=\"1\" class=\"dataframe\"><thead><tr><th>node_operator_address</th><th>node_operator_name</th></tr><tr><td>str</td><td>str</td></tr></thead><tbody><tr><td>&quot;0x00e7ad2a172633037c16f4470040…</td><td>&quot;BlockHunters 🎯&quot;</td></tr><tr><td>&quot;0x030d6216f27b4370d9e173ff6dd2…</td><td>&quot;Node.Monster&quot;</td></tr><tr><td>&quot;0x0710613f6aa7623f47b8c1c3d036…</td><td>&quot;Imperator.co&quot;</td></tr><tr><td>&quot;0x087c25f83ed20bda587cfa035ed0…</td><td>&quot;P2P.org&quot;</td></tr><tr><td>&quot;0x09505f2b29062de4e91e0053490b…</td><td>&quot;deNodes&quot;</td></tr><tr><td>&quot;0x09e6b2b6634c5b676198f32587de…</td><td>&quot;Sitnoprodex&quot;</td></tr><tr><td>&quot;0x0e66cd3a8117b72f5bd8e81cc078…</td><td>&quot;P-OPS Team&quot;</td></tr><tr><td>&quot;0x10ee0af996da1e206d96402b4f16…</td><td>&quot;Nethermind&quot;</td></tr><tr><td>&quot;0x220b52b504d090c5aba1066bcf4b…</td><td>&quot;Enigma&quot;</td></tr><tr><td>&quot;0x236633d5c0ec75c49ba3577b9cf5…</td><td>&quot;TodGrinder&quot;</td></tr><tr><td>&quot;0x282c86910dc7bc7d5da158a4f013…</td><td>&quot;Proviroll&quot;</td></tr><tr><td>&quot;0x2a21eaae1519d852296a15854941…</td><td>&quot;Finoa Consensus Services&quot;</td></tr><tr><td>&quot;0x2f0c999b5717a8d139e3e07ef3f7…</td><td>&quot;Galaxy&quot;</td></tr><tr><td>&quot;0x30fa2fce894310540df17873fa97…</td><td>&quot;BlockPI&quot;</td></tr><tr><td>&quot;0x33ebf25aa9046a6b01ef4ffaf0fb…</td><td>&quot;Meria&quot;</td></tr><tr><td>&quot;0x34fb42588bb13a556c24b9d016ed…</td><td>&quot;gumi&quot;</td></tr><tr><td>&quot;0x3934632dde8224ae298e11cd040e…</td><td>&quot;stakefish&quot;</td></tr><tr><td>&quot;0x3c76a393e09e0ce1fe315c9797b5…</td><td>&quot;Chainflow&quot;</td></tr><tr><td>&quot;0x4a61569110d135d241672547c4bf…</td><td>&quot;RumaLabs&quot;</td></tr><tr><td>&quot;0x4b9f8febafded90e66c9896b7291…</td><td>&quot;Ryabina&quot;</td></tr></tbody></table></div>"
      ],
      "text/plain": [
       "shape: (20, 2)\n",
       "┌─────────────────────────────────┬──────────────────────────┐\n",
       "│ node_operator_address           ┆ node_operator_name       │\n",
       "│ ---                             ┆ ---                      │\n",
       "│ str                             ┆ str                      │\n",
       "╞═════════════════════════════════╪══════════════════════════╡\n",
       "│ 0x00e7ad2a172633037c16f4470040… ┆ BlockHunters 🎯          │\n",
       "│ 0x030d6216f27b4370d9e173ff6dd2… ┆ Node.Monster             │\n",
       "│ 0x0710613f6aa7623f47b8c1c3d036… ┆ Imperator.co             │\n",
       "│ 0x087c25f83ed20bda587cfa035ed0… ┆ P2P.org                  │\n",
       "│ 0x09505f2b29062de4e91e0053490b… ┆ deNodes                  │\n",
       "│ 0x09e6b2b6634c5b676198f32587de… ┆ Sitnoprodex              │\n",
       "│ 0x0e66cd3a8117b72f5bd8e81cc078… ┆ P-OPS Team               │\n",
       "│ 0x10ee0af996da1e206d96402b4f16… ┆ Nethermind               │\n",
       "│ 0x220b52b504d090c5aba1066bcf4b… ┆ Enigma                   │\n",
       "│ 0x236633d5c0ec75c49ba3577b9cf5… ┆ TodGrinder               │\n",
       "│ 0x282c86910dc7bc7d5da158a4f013… ┆ Proviroll                │\n",
       "│ 0x2a21eaae1519d852296a15854941… ┆ Finoa Consensus Services │\n",
       "│ 0x2f0c999b5717a8d139e3e07ef3f7… ┆ Galaxy                   │\n",
       "│ 0x30fa2fce894310540df17873fa97… ┆ BlockPI                  │\n",
       "│ 0x33ebf25aa9046a6b01ef4ffaf0fb… ┆ Meria                    │\n",
       "│ 0x34fb42588bb13a556c24b9d016ed… ┆ gumi                     │\n",
       "│ 0x3934632dde8224ae298e11cd040e… ┆ stakefish                │\n",
       "│ 0x3c76a393e09e0ce1fe315c9797b5… ┆ Chainflow                │\n",
       "│ 0x4a61569110d135d241672547c4bf… ┆ RumaLabs                 │\n",
       "│ 0x4b9f8febafded90e66c9896b7291… ┆ Ryabina                  │\n",
       "└─────────────────────────────────┴──────────────────────────┘"
      ]
     },
     "execution_count": 6,
     "metadata": {},
     "output_type": "execute_result"
    }
   ],
   "source": [
    "df_operators"
   ]
  },
  {
   "cell_type": "code",
   "execution_count": 5,
   "metadata": {},
   "outputs": [
    {
     "data": {
      "text/html": [
       "<div><style>\n",
       ".dataframe > thead > tr,\n",
       ".dataframe > tbody > tr {\n",
       "  text-align: right;\n",
       "  white-space: pre-wrap;\n",
       "}\n",
       "</style>\n",
       "<small>shape: (16, 2)</small><table border=\"1\" class=\"dataframe\"><thead><tr><th>collateral_asset_address</th><th>collateral_asset_price</th></tr><tr><td>str</td><td>f64</td></tr></thead><tbody><tr><td>&quot;0x9d39a5de30e57443bff2a8307a42…</td><td>1.16</td></tr><tr><td>&quot;0xf1c9acdc66974dfb6decb12aa385…</td><td>1988.93</td></tr><tr><td>&quot;0xf951e335afb289353dc249e82926…</td><td>2070.97</td></tr><tr><td>&quot;0xd38bb40815d2b0c2d2c866e0c72c…</td><td>0.060421</td></tr><tr><td>&quot;0x20157dbabb84e3bbfe68c349d0d4…</td><td>83264.0</td></tr><tr><td>&quot;0xd5f7838f5c461feff7fe49ea5eba…</td><td>2025.89</td></tr><tr><td>&quot;0xc02aaa39b223fe8d0a0e5c4f27ea…</td><td>1909.49</td></tr><tr><td>&quot;0x2260fac5e5542a773aa44fbcfedf…</td><td>83546.0</td></tr><tr><td>&quot;0xfc385a1df85660a7e041423db512…</td><td>0.04611</td></tr><tr><td>&quot;0x8c1bed5b9a0928467c9b1341da1d…</td><td>2047.7</td></tr><tr><td>&quot;0x57b946008913b82e4df85f501cba…</td><td>0.011027</td></tr><tr><td>&quot;0xae78736cd615f374d3085123a210…</td><td>2144.13</td></tr><tr><td>&quot;0xa2e3356610840701bdf5611a5397…</td><td>2030.86</td></tr><tr><td>&quot;0x7f39c581f595b53c5cb19bd0b3f8…</td><td>2281.05</td></tr><tr><td>&quot;0xbe9895146f7af43049ca1c1ae358…</td><td>2085.6</td></tr><tr><td>&quot;0x8236a87084f8b84306f72007f36f…</td><td>83617.0</td></tr></tbody></table></div>"
      ],
      "text/plain": [
       "shape: (16, 2)\n",
       "┌─────────────────────────────────┬────────────────────────┐\n",
       "│ collateral_asset_address        ┆ collateral_asset_price │\n",
       "│ ---                             ┆ ---                    │\n",
       "│ str                             ┆ f64                    │\n",
       "╞═════════════════════════════════╪════════════════════════╡\n",
       "│ 0x9d39a5de30e57443bff2a8307a42… ┆ 1.16                   │\n",
       "│ 0xf1c9acdc66974dfb6decb12aa385… ┆ 1988.93                │\n",
       "│ 0xf951e335afb289353dc249e82926… ┆ 2070.97                │\n",
       "│ 0xd38bb40815d2b0c2d2c866e0c72c… ┆ 0.060421               │\n",
       "│ 0x20157dbabb84e3bbfe68c349d0d4… ┆ 83264.0                │\n",
       "│ 0xd5f7838f5c461feff7fe49ea5eba… ┆ 2025.89                │\n",
       "│ 0xc02aaa39b223fe8d0a0e5c4f27ea… ┆ 1909.49                │\n",
       "│ 0x2260fac5e5542a773aa44fbcfedf… ┆ 83546.0                │\n",
       "│ 0xfc385a1df85660a7e041423db512… ┆ 0.04611                │\n",
       "│ 0x8c1bed5b9a0928467c9b1341da1d… ┆ 2047.7                 │\n",
       "│ 0x57b946008913b82e4df85f501cba… ┆ 0.011027               │\n",
       "│ 0xae78736cd615f374d3085123a210… ┆ 2144.13                │\n",
       "│ 0xa2e3356610840701bdf5611a5397… ┆ 2030.86                │\n",
       "│ 0x7f39c581f595b53c5cb19bd0b3f8… ┆ 2281.05                │\n",
       "│ 0xbe9895146f7af43049ca1c1ae358… ┆ 2085.6                 │\n",
       "│ 0x8236a87084f8b84306f72007f36f… ┆ 83617.0                │\n",
       "└─────────────────────────────────┴────────────────────────┘"
      ]
     },
     "execution_count": 5,
     "metadata": {},
     "output_type": "execute_result"
    }
   ],
   "source": [
    "prices"
   ]
  },
  {
   "cell_type": "code",
   "execution_count": 17,
   "metadata": {},
   "outputs": [
    {
     "data": {
      "text/plain": [
       "'0x78c6b27be6db520d332b1b44323f94bc831f5e33'"
      ]
     },
     "execution_count": 17,
     "metadata": {},
     "output_type": "execute_result"
    }
   ],
   "source": [
    "df_staking_data.filter(pl.col(\"collateral_asset_price_right\").is_null()).select(pl.col(\"collateral_asset_address\")).row(0)[0]\n"
   ]
  }
 ],
 "metadata": {
  "kernelspec": {
   "display_name": "venv",
   "language": "python",
   "name": "python3"
  },
  "language_info": {
   "codemirror_mode": {
    "name": "ipython",
    "version": 3
   },
   "file_extension": ".py",
   "mimetype": "text/x-python",
   "name": "python",
   "nbconvert_exporter": "python",
   "pygments_lexer": "ipython3",
   "version": "3.12.4"
  }
 },
 "nbformat": 4,
 "nbformat_minor": 2
}
